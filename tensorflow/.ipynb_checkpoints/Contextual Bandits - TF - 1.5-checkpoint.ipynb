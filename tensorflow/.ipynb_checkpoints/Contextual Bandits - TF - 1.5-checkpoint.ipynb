{
 "cells": [
  {
   "cell_type": "code",
   "execution_count": 1,
   "metadata": {
    "collapsed": true
   },
   "outputs": [],
   "source": [
    "import tensorflow as tf\n",
    "import tensorflow.contrib.slim as slim\n",
    "import numpy as np"
   ]
  },
  {
   "cell_type": "code",
   "execution_count": 8,
   "metadata": {
    "collapsed": true
   },
   "outputs": [],
   "source": [
    "#defining the bandit(aka slot machine)\n",
    "class contextual_bandit():\n",
    "    def _init_(self):\n",
    "        self.state = 0\n",
    "        #\n",
    "        self.bandits = np.array([[0.2,0,-0.0,-5], \n",
    "                                 [0.1, -5, -3, 1], \n",
    "                                 [0.25, -0.5, -0.21, -0.6]])\n",
    "        self.num_bandits = self.bandit.shape[0]\n",
    "        self.num_actions = self.bandits.shape[1]\n",
    "        \n",
    "    def getBandit(self):\n",
    "        self.state = np.random.randint(0, len(self.bandits))\n",
    "        return self.state\n",
    "    \n",
    "    def pullArm(self, action):\n",
    "        \n",
    "        bandit = self.bandits[self.state, action]\n",
    "        result = np.random.randn(1)\n",
    "        if result > bandit:\n",
    "            return 1\n",
    "        else:\n",
    "            return -1\n"
   ]
  },
  {
   "cell_type": "code",
   "execution_count": 3,
   "metadata": {
    "collapsed": true
   },
   "outputs": [],
   "source": [
    "#Establishing the agent\n",
    "class agent():\n",
    "    def _init_(self, lr, s_size, a_size):\n",
    "        \n",
    "        self.state_in = tf.placeholder(shape=[1], dtype=tf.int32)\n",
    "        state_in_OH = slim.one_hot_encoding(self.state_in, s_sise)\n",
    "        output = slim.fully_connected(state_in_OH, a_size,\\\n",
    "            biases_initializer=None, activation_fn=tf.nn.sigmoid, \n",
    "            weights_initializer=tf.one_initializer())\n",
    "        self.output = tf.reshape(output, [-1])\n",
    "        self.chosen_action = tf.argmax(self.output, 0)\n",
    "        \n",
    "        self.reward_holder = tf.placeholder(shape=[1], dtype=tf.float32)\n",
    "        self.action_holder = tf.placeholder(shape=[1], dtype=tf.int32)\n",
    "        self.responsible_weight = tf.slice(self.output, self.action_holder, [1])\n",
    "        self.loss = -(tf.log(self.responsible_weight)*self.reward_holder)\n",
    "        optimizer = tf.train.GradientDescentOptimizer(learning_rate=lr)\n",
    "        self.update = optimizer.minimize(self.loss)"
   ]
  },
  {
   "cell_type": "code",
   "execution_count": 8,
   "metadata": {},
   "outputs": [
    {
     "ename": "TypeError",
     "evalue": "object() takes no parameters",
     "output_type": "error",
     "traceback": [
      "\u001b[0;31m---------------------------------------------------------------------------\u001b[0m",
      "\u001b[0;31mTypeError\u001b[0m                                 Traceback (most recent call last)",
      "\u001b[0;32m<ipython-input-8-9655590fe909>\u001b[0m in \u001b[0;36m<module>\u001b[0;34m()\u001b[0m\n\u001b[1;32m      4\u001b[0m \u001b[0mcBandit\u001b[0m \u001b[0;34m=\u001b[0m \u001b[0mcontextual_bandit\u001b[0m\u001b[0;34m(\u001b[0m\u001b[0;34m)\u001b[0m \u001b[0;31m# Load the bandits\u001b[0m\u001b[0;34m\u001b[0m\u001b[0m\n\u001b[1;32m      5\u001b[0m myAgent = agent(lr=0.001, s_size = cBandit.num_bandits, \n\u001b[0;32m----> 6\u001b[0;31m                 a_size = cBandit.num_actions) # Load the agent\n\u001b[0m\u001b[1;32m      7\u001b[0m \u001b[0mweights\u001b[0m \u001b[0;34m=\u001b[0m \u001b[0mtf\u001b[0m\u001b[0;34m.\u001b[0m\u001b[0mtrainable_variables\u001b[0m\u001b[0;34m(\u001b[0m\u001b[0;34m)\u001b[0m\u001b[0;34m[\u001b[0m\u001b[0;36m0\u001b[0m\u001b[0;34m]\u001b[0m \u001b[0;31m#The weights we will evaluatite to look into the network. ?\u001b[0m\u001b[0;34m\u001b[0m\u001b[0m\n\u001b[1;32m      8\u001b[0m \u001b[0mtotal_episodes\u001b[0m \u001b[0;34m=\u001b[0m \u001b[0;36m10000\u001b[0m \u001b[0;31m# Total episodes to train the agent on\u001b[0m\u001b[0;34m\u001b[0m\u001b[0m\n",
      "\u001b[0;31mTypeError\u001b[0m: object() takes no parameters"
     ]
    }
   ],
   "source": [
    "# Train the agent\n",
    "tf.reset_default_graph() # Clear tensorflow graph\n",
    "\n",
    "cBandit = contextual_bandit() # Load the bandits\n",
    "myAgent = agent(lr=0.001, s_size = cBandit.num_bandits, \n",
    "                a_size = cBandit.num_actions) # Load the agent\n",
    "weights = tf.trainable_variables()[0] #The weights we will evaluatite to look into the network. ?\n",
    "total_episodes = 10000 # Total episodes to train the agent on\n",
    "total_reward = np.zeros([cBandit.num_bandits, cBandit.num_actions]) # Set scorebard for bandits to 0\n",
    "e = 0.1 # \"e-greedy method\" - set the cahnce of taking a random action\n",
    "\n",
    "init = tf.initialize_all_variables()\n",
    "\n",
    "# launch the tesnsorflow graph\n",
    "with tf.Session() as sess:\n",
    "    sess.run(init)\n",
    "    i = 0 \n",
    "    while i < total_episodes:\n",
    "        s = cBandit.getBandit() # Get a state from the environment\n",
    "        \n",
    "        # Choose either a random action or one fom our network\n",
    "        if np.random.rand(1) < e:\n",
    "            action = np.random.randint(cBandit.num_actions)\n",
    "        else:\n",
    "            action = sess.run(myAgent.chosen_action, feed_dict={myAgent.state_in:[s]})\n",
    "            \n",
    "            reward = cBandit.pullArm(action)\n",
    "            \n",
    "            #update the network\n",
    "            feed_dict={myAgent.reward_holder:[reward], \n",
    "                       myAgent.action_holder:[action], my.Agent.state_in:[s]}\n",
    "            _,ww = sess.run([myAgent.update, weights], feed_dict=feed_dict)\n",
    "            \n",
    "            # UPdate our running tally of scores\n",
    "            total_reward[s, action] += reward\n",
    "            if i % 500 == 0:\n",
    "                print(\"Mean reward for each of the {} bandits: {}\"\n",
    "                      .format(cBandit.num_bandits, np.mean(total_reward, axis=1)))\n",
    "                    \n",
    "        \n"
   ]
  },
  {
   "cell_type": "code",
   "execution_count": 5,
   "metadata": {
    "collapsed": true
   },
   "outputs": [],
   "source": [
    "class contextual_bandit():\n",
    "    def __init__(self):\n",
    "        self.state = 0\n",
    "        #List out our bandits. Currently arms 4, 2, and 1 (respectively) are the most optimal.\n",
    "        self.bandits = np.array([[0.2,0,-0.0,-5], \n",
    "                                 [0.1, -5, -3, 1], \n",
    "                                 [0.25, -0.5, -0.21, -0.6]])\n",
    "        self.num_bandits = self.bandits.shape[0]\n",
    "        self.num_actions = self.bandits.shape[1]\n",
    "        \n",
    "    def getBandit(self):\n",
    "        self.state = np.random.randint(0,len(self.bandits)) #Returns a random state for each episode.\n",
    "        return self.state\n",
    "        \n",
    "    def pullArm(self,action):\n",
    "        #Get a random number.\n",
    "        bandit = self.bandits[self.state,action]\n",
    "        result = np.random.randn(1)\n",
    "        if result > bandit:\n",
    "            #return a positive reward.\n",
    "            return 1\n",
    "        else:\n",
    "            #return a negative reward.\n",
    "            return -1"
   ]
  },
  {
   "cell_type": "code",
   "execution_count": 6,
   "metadata": {
    "collapsed": true
   },
   "outputs": [],
   "source": [
    "class agent():\n",
    "    def __init__(self, lr, s_size,a_size):\n",
    "        #These lines established the feed-forward part of the network. The agent takes a state and produces an action.\n",
    "        self.state_in= tf.placeholder(shape=[1],dtype=tf.int32)\n",
    "        state_in_OH = slim.one_hot_encoding(self.state_in,s_size)\n",
    "        output = slim.fully_connected(state_in_OH,a_size,\\\n",
    "            biases_initializer=None,activation_fn=tf.nn.sigmoid,weights_initializer=tf.ones_initializer())\n",
    "        self.output = tf.reshape(output,[-1])\n",
    "        self.chosen_action = tf.argmax(self.output,0)\n",
    "\n",
    "        #The next six lines establish the training proceedure. We feed the reward and chosen action into the network\n",
    "        #to compute the loss, and use it to update the network.\n",
    "        self.reward_holder = tf.placeholder(shape=[1],dtype=tf.float32)\n",
    "        self.action_holder = tf.placeholder(shape=[1],dtype=tf.int32)\n",
    "        self.responsible_weight = tf.slice(self.output,self.action_holder,[1])\n",
    "        self.loss = -(tf.log(self.responsible_weight)*self.reward_holder)\n",
    "        optimizer = tf.train.GradientDescentOptimizer(learning_rate=lr)\n",
    "        self.update = optimizer.minimize(self.loss)"
   ]
  },
  {
   "cell_type": "code",
   "execution_count": 8,
   "metadata": {},
   "outputs": [
    {
     "name": "stdout",
     "output_type": "stream",
     "text": [
      "Mean reward for each of the 3 bandits: [ 0.    0.   -0.25]\n",
      "Mean reward for each of the 3 bandits: [ 28.    43.    13.25]\n",
      "Mean reward for each of the 3 bandits: [ 69.25  86.25  26.75]\n",
      "Mean reward for each of the 3 bandits: [ 109.5   122.25   43.  ]\n",
      "Mean reward for each of the 3 bandits: [ 149.75  162.25   61.75]\n",
      "Mean reward for each of the 3 bandits: [ 187.75  199.75   80.75]\n",
      "Mean reward for each of the 3 bandits: [ 223.    239.25   99.  ]\n",
      "Mean reward for each of the 3 bandits: [ 260.    277.25  116.5 ]\n",
      "Mean reward for each of the 3 bandits: [ 298.    319.    132.25]\n",
      "Mean reward for each of the 3 bandits: [ 333.25  360.    145.5 ]\n",
      "Mean reward for each of the 3 bandits: [ 368.25  396.25  166.25]\n",
      "Mean reward for each of the 3 bandits: [ 409.    434.25  178.  ]\n",
      "Mean reward for each of the 3 bandits: [ 445.75  474.25  197.75]\n",
      "Mean reward for each of the 3 bandits: [ 482.25  517.    211.  ]\n",
      "Mean reward for each of the 3 bandits: [ 518.75  556.75  227.25]\n",
      "Mean reward for each of the 3 bandits: [ 559.    597.    242.75]\n",
      "Mean reward for each of the 3 bandits: [ 594.25  641.    258.5 ]\n",
      "Mean reward for each of the 3 bandits: [ 632.5   677.25  284.5 ]\n",
      "Mean reward for each of the 3 bandits: [ 668.5   716.    304.25]\n",
      "Mean reward for each of the 3 bandits: [ 713.5   752.25  321.5 ]\n",
      "The agent thinks action 4 for bandit 1 is the most promising....\n",
      "...and it was right!\n",
      "The agent thinks action 2 for bandit 2 is the most promising....\n",
      "...and it was right!\n",
      "The agent thinks action 4 for bandit 3 is the most promising....\n",
      "...and it was right!\n"
     ]
    }
   ],
   "source": [
    "tf.reset_default_graph() #Clear the Tensorflow graph.\n",
    "\n",
    "cBandit = contextual_bandit() #Load the bandits.\n",
    "myAgent = agent(lr=0.001,s_size=cBandit.num_bandits,\n",
    "                a_size=cBandit.num_actions) #Load the agent.\n",
    "weights = tf.trainable_variables()[0] #The weights we will evaluate to look into the network.\n",
    "\n",
    "total_episodes = 10000 #Set total number of episodes to train agent on.\n",
    "total_reward = np.zeros([cBandit.num_bandits,cBandit.num_actions]) #Set scoreboard for bandits to 0.\n",
    "e = 0.1 #Set the chance of taking a random action.\n",
    "\n",
    "init = tf.initialize_all_variables()\n",
    "\n",
    "# Launch the tensorflow graph\n",
    "with tf.Session() as sess:\n",
    "    sess.run(init)\n",
    "    i = 0\n",
    "    while i < total_episodes:\n",
    "        s = cBandit.getBandit() #Get a state from the environment.\n",
    "        \n",
    "        #Choose either a random action or one from our network.\n",
    "        if np.random.rand(1) < e:\n",
    "            action = np.random.randint(cBandit.num_actions)\n",
    "        else:\n",
    "            action = sess.run(myAgent.chosen_action,feed_dict={myAgent.state_in:[s]})\n",
    "        \n",
    "        reward = cBandit.pullArm(action) #Get our reward for taking an action given a bandit.\n",
    "        \n",
    "        #Update the network.\n",
    "        feed_dict={myAgent.reward_holder:[reward],myAgent.action_holder:[action],myAgent.state_in:[s]}\n",
    "        _,ww = sess.run([myAgent.update,weights], feed_dict=feed_dict)\n",
    "        \n",
    "        #Update our running tally of scores.\n",
    "        total_reward[s,action] += reward\n",
    "        if i % 500 == 0:\n",
    "            print (\"Mean reward for each of the \" + str(cBandit.num_bandits) + \" bandits: \" + str(np.mean(total_reward,axis=1)))\n",
    "        i+=1\n",
    "for a in range(cBandit.num_bandits):\n",
    "    print (\"The agent thinks action \" + str(np.argmax(ww[a])+1) \n",
    "    + \" for bandit \" + str(a+1) + \" is the most promising....\")\n",
    "    if np.argmax(ww[a]) == np.argmin(cBandit.bandits[a]):\n",
    "        print (\"...and it was right!\")\n",
    "    else:\n",
    "        print (\"...and it was wrong!\")"
   ]
  },
  {
   "cell_type": "code",
   "execution_count": null,
   "metadata": {
    "collapsed": true
   },
   "outputs": [],
   "source": []
  },
  {
   "cell_type": "code",
   "execution_count": null,
   "metadata": {
    "collapsed": true
   },
   "outputs": [],
   "source": []
  }
 ],
 "metadata": {
  "kernelspec": {
   "display_name": "Python 3",
   "language": "python",
   "name": "python3"
  },
  "language_info": {
   "codemirror_mode": {
    "name": "ipython",
    "version": 3
   },
   "file_extension": ".py",
   "mimetype": "text/x-python",
   "name": "python",
   "nbconvert_exporter": "python",
   "pygments_lexer": "ipython3",
   "version": "3.5.4"
  }
 },
 "nbformat": 4,
 "nbformat_minor": 2
}

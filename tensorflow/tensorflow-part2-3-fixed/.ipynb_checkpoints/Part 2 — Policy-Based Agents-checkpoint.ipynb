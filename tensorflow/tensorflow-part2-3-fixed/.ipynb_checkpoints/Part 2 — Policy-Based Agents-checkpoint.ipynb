{
 "cells": [
  {
   "cell_type": "markdown",
   "metadata": {},
   "source": [
    "## Simple Reinforcement Learning\n",
    "### CartPole - Tensorflow\n",
    "\n",
    "09/02/18 - This is a policy-gradient reinforcement agent.\n",
    "Honestly still don't understand what I'm doing.\n",
    "I think the final outputs are the score that we are hitting in the game CartPole.\n",
    "\n",
    "Acknowledgment: https://github.com/awjuliani/DeepRL-Agents/blob/master/Vanilla-Policy.ipynb"
   ]
  },
  {
   "cell_type": "code",
   "execution_count": 3,
   "metadata": {},
   "outputs": [],
   "source": [
    "import tensorflow as tf\n",
    "import tensorflow.contrib.slim as slim\n",
    "import numpy as np\n",
    "import gym\n",
    "import matplotlib.pyplot as plt\n",
    "%matplotlib inline\n",
    "\n",
    "try:\n",
    "    xrange = xrange\n",
    "except:\n",
    "    xrange = range"
   ]
  },
  {
   "cell_type": "code",
   "execution_count": 4,
   "metadata": {},
   "outputs": [
    {
     "name": "stderr",
     "output_type": "stream",
     "text": [
      "[2018-02-09 20:23:43,817] Making new env: CartPole-v0\n"
     ]
    }
   ],
   "source": [
    "env = gym.make('CartPole-v0')"
   ]
  },
  {
   "cell_type": "code",
   "execution_count": 16,
   "metadata": {},
   "outputs": [],
   "source": [
    "gamma = 0.99\n",
    "\n",
    "def discount_rewards(r):\n",
    "    \"\"\" take 1d float array of rewards and compute discounted reward \"\"\"\n",
    "    discounted_r = np.zeros_like(r)\n",
    "    running_add = 0\n",
    "    for t in reversed(xrange(0, r.size)):\n",
    "        running_add = running_add * gamma + r[t]\n",
    "        discounted_r[t] = running_add\n",
    "    return discounted_r"
   ]
  },
  {
   "cell_type": "code",
   "execution_count": 17,
   "metadata": {},
   "outputs": [],
   "source": [
    "class agent():\n",
    "    def __init__(self, lr, s_size, a_size, h_size):\n",
    "        # Some feedforward stuff. The agent takes a state and produces an action?\n",
    "        self.state_in = tf.placeholder(shape=[None, s_size],dtype=tf.float32)\n",
    "        hidden = slim.fully_connected(self.state_in, h_size,biases_initializer=None, activation_fn=tf.nn.relu)\n",
    "        self.output = slim.fully_connected(hidden, a_size, activation_fn=tf.nn.softmax, biases_initializer=None)\n",
    "        self.chosen_action = tf.argmax(self.output, 1)\n",
    "        \n",
    "        # Establish training proceedure. We feed the reward and chosen action into the network\n",
    "        # to compute the loss, and use it to update the network\n",
    "        self.reward_holder = tf.placeholder(shape=[None], dtype=tf.float32)\n",
    "        self.action_holder = tf.placeholder(shape=[None], dtype=tf.int32)\n",
    "        \n",
    "        self.indexes = (tf.range(0, tf.shape(self.output)[0]) \n",
    "                              * tf.shape(self.output)[1] \n",
    "                              + self.action_holder)\n",
    "        self.responsible_outputs = tf.gather(tf.reshape(self.output, [-1]), \n",
    "                                             self.indexes)\n",
    "        self.loss = -tf.reduce_mean(tf.log(self.responsible_outputs)\n",
    "                                    *self.reward_holder)\n",
    "        \n",
    "        tvars = tf.trainable_variables()\n",
    "        self.gradient_holders = []\n",
    "        for idx,var in enumerate(tvars):\n",
    "            placeholder = tf.placeholder(tf.float32, name=str(idx)+'_holder')\n",
    "            self.gradient_holders.append(placeholder)\n",
    "            \n",
    "        self.gradients = tf.gradients(self.loss, tvars)\n",
    "        \n",
    "        optimizer = tf.train.AdamOptimizer(learning_rate=lr)\n",
    "        self.update_batch = optimizer.apply_gradients(zip(self.gradient_holders,tvars))"
   ]
  },
  {
   "cell_type": "markdown",
   "metadata": {},
   "source": [
    "## Traning the Agent"
   ]
  },
  {
   "cell_type": "code",
   "execution_count": 18,
   "metadata": {},
   "outputs": [
    {
     "name": "stderr",
     "output_type": "stream",
     "text": [
      "/home/master/anaconda3/envs/my_env35/lib/python3.5/site-packages/tensorflow/python/ops/gradients_impl.py:97: UserWarning: Converting sparse IndexedSlices to a dense Tensor of unknown shape. This may consume a large amount of memory.\n",
      "  \"Converting sparse IndexedSlices to a dense Tensor of unknown shape. \"\n"
     ]
    },
    {
     "name": "stdout",
     "output_type": "stream",
     "text": [
      "19.0\n",
      "25.95\n",
      "35.15\n",
      "45.71\n",
      "67.39\n",
      "97.72\n",
      "146.94\n",
      "170.04\n",
      "181.47\n",
      "187.28\n",
      "185.26\n",
      "187.7\n",
      "184.33\n",
      "172.91\n",
      "170.12\n",
      "190.42\n",
      "192.38\n",
      "196.53\n",
      "193.91\n",
      "195.66\n",
      "196.41\n",
      "197.17\n",
      "198.6\n",
      "196.54\n",
      "195.68\n",
      "193.77\n",
      "197.86\n",
      "199.87\n",
      "199.51\n",
      "198.19\n",
      "199.81\n",
      "200.0\n",
      "199.97\n",
      "200.0\n",
      "199.55\n",
      "199.63\n",
      "200.0\n",
      "199.01\n",
      "198.69\n",
      "198.35\n",
      "194.89\n",
      "194.66\n",
      "195.72\n",
      "196.6\n",
      "198.67\n",
      "197.97\n",
      "198.08\n",
      "197.6\n",
      "189.14\n",
      "194.84\n"
     ]
    }
   ],
   "source": [
    "tf.reset_default_graph() # Clear the Tensorflow graph\n",
    "myAgent = agent(lr=1e-2, s_size=4, a_size=2,h_size=8) # load the agent\n",
    "\n",
    "total_episodes = 5000 # Set total number of episodes to train agent on\n",
    "max_ep = 999\n",
    "update_frequency = 5\n",
    "\n",
    "init = tf.global_variables_initializer()\n",
    "\n",
    "# Launch the tensorflow graph\n",
    "with tf.Session() as sess:\n",
    "    sess.run(init)\n",
    "    i = 0\n",
    "    total_reward = []\n",
    "    total_length= []\n",
    "    \n",
    "    gradBuffer = sess.run(tf.trainable_variables())\n",
    "    for ix,grad in enumerate(gradBuffer):\n",
    "        gradBuffer[ix] = grad * 0\n",
    "        \n",
    "    while i < total_episodes:\n",
    "        s = env.reset()\n",
    "        running_reward = 0\n",
    "        ep_history = []\n",
    "        for j in range (max_ep):\n",
    "            #Probablilistically pick an action given our network outputs\n",
    "            a_dist = sess.run(myAgent.output, feed_dict={myAgent.state_in:[s]})\n",
    "            a = np.random.choice(a_dist[0], p=a_dist[0])\n",
    "            a = np.argmax(a_dist == a)\n",
    "            \n",
    "            s1,r,d,_ = env.step(a) # Get our reward for taking an action given a bandit\n",
    "            ep_history.append([s,a,r,s1])\n",
    "            s = s1\n",
    "            running_reward += r\n",
    "            if d == True:\n",
    "                # update the network\n",
    "                ep_history = np.array(ep_history)\n",
    "                ep_history[:,2] = discount_rewards(ep_history[:,2])\n",
    "                feed_dict={myAgent.reward_holder:ep_history[:,2],\n",
    "                          myAgent.action_holder:ep_history[:,1],\n",
    "                          myAgent.state_in:np.vstack(ep_history[:,0])}\n",
    "                grads = sess.run(myAgent.gradients, feed_dict=feed_dict)\n",
    "                for idx, grad in enumerate(grads):\n",
    "                    gradBuffer[idx] += grad\n",
    "                    \n",
    "                if i % update_frequency == 0 and i != 0:\n",
    "                    feed_dict = dictionary = dict(zip(myAgent.gradient_holders, gradBuffer))\n",
    "                    _ = sess.run(myAgent.update_batch, feed_dict=feed_dict)\n",
    "                    for ix,grad in enumerate(gradBuffer):\n",
    "                        gradBuffer[ix] = grad * 0\n",
    "                        \n",
    "                total_reward.append(running_reward)\n",
    "                total_length.append(j)\n",
    "                break\n",
    "                \n",
    "            # update our running tally of scores\n",
    "        if i % 100 == 0:\n",
    "            print(np.mean(total_reward[-100:]))\n",
    "        i += 1"
   ]
  },
  {
   "cell_type": "code",
   "execution_count": null,
   "metadata": {},
   "outputs": [],
   "source": []
  }
 ],
 "metadata": {
  "kernelspec": {
   "display_name": "Python 3",
   "language": "python",
   "name": "python3"
  },
  "language_info": {
   "codemirror_mode": {
    "name": "ipython",
    "version": 3
   },
   "file_extension": ".py",
   "mimetype": "text/x-python",
   "name": "python",
   "nbconvert_exporter": "python",
   "pygments_lexer": "ipython3",
   "version": "3.5.4"
  }
 },
 "nbformat": 4,
 "nbformat_minor": 2
}

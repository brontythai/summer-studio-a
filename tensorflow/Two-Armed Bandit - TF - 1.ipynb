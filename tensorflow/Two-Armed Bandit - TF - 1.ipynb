{
 "cells": [
  {
   "cell_type": "code",
   "execution_count": 1,
   "metadata": {
    "collapsed": true
   },
   "outputs": [],
   "source": [
    "import tensorflow as tf\n",
    "import numpy as np"
   ]
  },
  {
   "cell_type": "code",
   "execution_count": 23,
   "metadata": {
    "collapsed": true
   },
   "outputs": [],
   "source": [
    "# Array of bandits. If the result pulled is more than the bandits then you get rewards\n",
    "bandits = [0.2,0,-0.2,-5] \n",
    "num_bandits = len(bandits)\n",
    "def pullBandit(bandit):\n",
    "    #Get a random number\n",
    "    result = np.random.randn(1)\n",
    "    if result > bandit:\n",
    "        #return positive reward\n",
    "        return 1\n",
    "    else:\n",
    "        #return negative reward\n",
    "        return -1"
   ]
  },
  {
   "cell_type": "code",
   "execution_count": null,
   "metadata": {
    "collapsed": true
   },
   "outputs": [],
   "source": []
  },
  {
   "cell_type": "code",
   "execution_count": 24,
   "metadata": {
    "collapsed": true
   },
   "outputs": [],
   "source": [
    "tf.reset_default_graph()\n",
    "\n",
    "weights = tf.Variable(tf.ones([num_bandits]))\n",
    "chosen_action = tf.argmax(weights, 0)\n",
    "\n",
    "reward_holder = tf.placeholder(shape=[1], dtype=tf.float32)\n",
    "action_holder = tf.placeholder(shape=[1], dtype=tf.int32)\n",
    "responsible_weight = tf.slice(weights,action_holder,[1])\n",
    "loss = -(tf.log(responsible_weight)*reward_holder)\n",
    "optimizer = tf.train.GradientDescentOptimizer(learning_rate=0.001)\n",
    "update = optimizer.minimize(loss)\n"
   ]
  },
  {
   "cell_type": "code",
   "execution_count": null,
   "metadata": {
    "collapsed": true
   },
   "outputs": [],
   "source": [
    "total_episodes = 1000\n",
    "total_reward = np.zeros(num_bandits)\n",
    "e = 0.1\n",
    "\n",
    "init = tf.initialize_all_variables()\n",
    "\n",
    "with tf.Session() as sess:\n",
    "    sess.run(init)\n",
    "    i = 0\n",
    "    while i < total_episodes:\n",
    "        \n",
    "        if np.random.rand(1) < e:\n",
    "            action = np.random.randint(num_bandits)\n",
    "        else:\n",
    "            action = sess.run(chosen_action)\n",
    "        \n",
    "        reward = pullBandit(bandits[action])\n",
    "        \n",
    "        _,resp,ww = sess.run([update,responsible_weight,weights], \n",
    "                             feed_dict={reward_holder:[reward],\n",
    "                                        action_holder:[action]})\n",
    "        \n",
    "        total_reward[action] += reward\n",
    "        "
   ]
  },
  {
   "cell_type": "code",
   "execution_count": 33,
   "metadata": {},
   "outputs": [
    {
     "name": "stdout",
     "output_type": "stream",
     "text": [
      "Running reward for the 4 bandits: [ 1.  0.  0.  0.]\n",
      "Running reward for the 4 bandits: [-2.  0.  8.  1.]\n",
      "Running reward for the 4 bandits: [-4. -1.  8.  2.]\n",
      "Running reward for the 4 bandits: [-6. -1.  2.  8.]\n",
      "Running reward for the 4 bandits: [ -5.  -2.   3.  53.]\n",
      "Running reward for the 4 bandits: [ -6.  -2.   7.  98.]\n",
      "Running reward for the 4 bandits: [  -6.   -3.    7.  147.]\n",
      "Running reward for the 4 bandits: [  -6.   -1.    7.  195.]\n",
      "Running reward for the 4 bandits: [  -9.   -1.    7.  242.]\n",
      "Running reward for the 4 bandits: [  -9.   -1.    7.  288.]\n",
      "Running reward for the 4 bandits: [  -8.    0.    7.  334.]\n",
      "Running reward for the 4 bandits: [  -8.    0.    8.  381.]\n",
      "Running reward for the 4 bandits: [  -8.   -1.    8.  430.]\n",
      "Running reward for the 4 bandits: [  -8.    0.    8.  479.]\n",
      "Running reward for the 4 bandits: [  -7.    1.    8.  525.]\n",
      "Running reward for the 4 bandits: [  -7.    0.    9.  573.]\n",
      "Running reward for the 4 bandits: [  -5.    0.   10.  620.]\n",
      "Running reward for the 4 bandits: [  -5.   -1.   10.  663.]\n",
      "Running reward for the 4 bandits: [  -5.   -1.   10.  711.]\n",
      "Running reward for the 4 bandits: [  -6.    0.   12.  757.]\n",
      "Test value: 1\n",
      "The agent thinks bandit 4 is most promising...\n",
      "... and it was right!\n"
     ]
    }
   ],
   "source": [
    "total_episodes = 1000\n",
    "total_reward = np.zeros(num_bandits)\n",
    "e = 0.1\n",
    "\n",
    "init = tf.initialize_all_variables()\n",
    "\n",
    "with tf.Session() as sess:\n",
    "    sess.run(init)\n",
    "    i = 0\n",
    "    while i < total_episodes:\n",
    "\n",
    "        # Because of the type of method not always pick the correct answer but will allow ourself to explore the possibility of what will happen if we select another choice\n",
    "        if np.random.rand(1) < e:\n",
    "            #a random choice\n",
    "            action = np.random.randint(num_bandits)\n",
    "        else:\n",
    "            # the choice selected by argmax\n",
    "            action = sess.run(chosen_action)\n",
    "        \n",
    "        reward = pullBandit(bandits[action])\n",
    "\n",
    "        \n",
    "        _,resp,ww = sess.run([update,responsible_weight,weights], \n",
    "                             feed_dict={reward_holder:[reward],\n",
    "                                        action_holder:[action]})\n",
    "        \n",
    "        total_reward[action] += reward\n",
    "        if i % 50 == 0:\n",
    "            print(\"Running reward for the \" \n",
    "                  + str(num_bandits) + \" bandits: \" + str(total_reward)\n",
    "                 )\n",
    "        i +=1\n",
    "        \n",
    "print (\"Test value: \" + str(pullBandit(bandits[action]))) \n",
    "\n",
    "print (\"The agent thinks bandit \" + str(np.argmax(ww) + 1) + \" is most promising...\")\n",
    "if np.argmax(ww) == np.argmax(-np.array(bandits)):\n",
    "    print (\"... and it was right!\")\n",
    "else:\n",
    "    print (\"and it was wrong\")"
   ]
  },
  {
   "cell_type": "code",
   "execution_count": null,
   "metadata": {
    "collapsed": true
   },
   "outputs": [],
   "source": []
  },
  {
   "cell_type": "code",
   "execution_count": null,
   "metadata": {
    "collapsed": true
   },
   "outputs": [],
   "source": []
  }
 ],
 "metadata": {
  "kernelspec": {
   "display_name": "Python 3",
   "language": "python",
   "name": "python3"
  },
  "language_info": {
   "codemirror_mode": {
    "name": "ipython",
    "version": 3
   },
   "file_extension": ".py",
   "mimetype": "text/x-python",
   "name": "python",
   "nbconvert_exporter": "python",
   "pygments_lexer": "ipython3",
   "version": "3.5.4"
  }
 },
 "nbformat": 4,
 "nbformat_minor": 2
}
